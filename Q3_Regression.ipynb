{
 "cells": [
  {
   "cell_type": "code",
   "execution_count": 1,
   "id": "c23a158b-2cae-4161-ac8f-c61912a8d202",
   "metadata": {},
   "outputs": [],
   "source": [
    "import findspark\n",
    "findspark.init()"
   ]
  },
  {
   "cell_type": "code",
   "execution_count": 2,
   "id": "a1689ca4-ec32-4649-8b79-347a957f0781",
   "metadata": {},
   "outputs": [],
   "source": [
    "from pyspark.sql import SparkSession\n",
    "from pyspark import SparkContext\n",
    "from pyspark.sql import SQLContext"
   ]
  },
  {
   "cell_type": "code",
   "execution_count": 3,
   "id": "cb5c9528-a160-4d1f-9b5a-efdefa55affe",
   "metadata": {},
   "outputs": [],
   "source": [
    "from pyspark.sql.functions import *\n",
    "from pyspark.sql.types import *"
   ]
  },
  {
   "cell_type": "code",
   "execution_count": 4,
   "id": "912da8e3-0291-4b32-9940-87f4f1ad2e96",
   "metadata": {},
   "outputs": [],
   "source": [
    "sc = SparkContext()"
   ]
  },
  {
   "cell_type": "code",
   "execution_count": 5,
   "id": "e6d8abda-0c66-4173-848f-152c258ab929",
   "metadata": {},
   "outputs": [],
   "source": [
    "spark = SparkSession(sc)"
   ]
  },
  {
   "cell_type": "markdown",
   "id": "84fe62af-4836-434e-adf8-21732b33474a",
   "metadata": {},
   "source": [
    "### Read the dataset"
   ]
  },
  {
   "cell_type": "code",
   "execution_count": 6,
   "id": "c9a174f6-c7e0-40a0-8f88-05901e845df7",
   "metadata": {},
   "outputs": [],
   "source": [
    "import pandas as pd"
   ]
  },
  {
   "cell_type": "code",
   "execution_count": 7,
   "id": "e52e9164-f35f-4d84-805e-4da5d5964005",
   "metadata": {},
   "outputs": [],
   "source": [
    "path = 'Du_lieu_cung_cap/CCPP/Folds5x2_pp.xlsx'"
   ]
  },
  {
   "cell_type": "code",
   "execution_count": 8,
   "id": "73b00a07-b510-462d-ad84-8240fd444c99",
   "metadata": {},
   "outputs": [],
   "source": [
    "df1 = pd.read_excel(path, 'Sheet1')\n",
    "df2 = pd.read_excel(path, 'Sheet2')\n",
    "df3 = pd.read_excel(path, 'Sheet3')\n",
    "df4 = pd.read_excel(path, 'Sheet4')\n",
    "df5 = pd.read_excel(path, 'Sheet5')"
   ]
  },
  {
   "cell_type": "code",
   "execution_count": 9,
   "id": "8989df32-cde7-4ee3-bd0e-7c4cea185f87",
   "metadata": {},
   "outputs": [
    {
     "data": {
      "text/html": [
       "<div>\n",
       "<style scoped>\n",
       "    .dataframe tbody tr th:only-of-type {\n",
       "        vertical-align: middle;\n",
       "    }\n",
       "\n",
       "    .dataframe tbody tr th {\n",
       "        vertical-align: top;\n",
       "    }\n",
       "\n",
       "    .dataframe thead th {\n",
       "        text-align: right;\n",
       "    }\n",
       "</style>\n",
       "<table border=\"1\" class=\"dataframe\">\n",
       "  <thead>\n",
       "    <tr style=\"text-align: right;\">\n",
       "      <th></th>\n",
       "      <th>AT</th>\n",
       "      <th>V</th>\n",
       "      <th>AP</th>\n",
       "      <th>RH</th>\n",
       "      <th>PE</th>\n",
       "    </tr>\n",
       "  </thead>\n",
       "  <tbody>\n",
       "    <tr>\n",
       "      <th>0</th>\n",
       "      <td>14.96</td>\n",
       "      <td>41.76</td>\n",
       "      <td>1024.07</td>\n",
       "      <td>73.17</td>\n",
       "      <td>463.26</td>\n",
       "    </tr>\n",
       "    <tr>\n",
       "      <th>1</th>\n",
       "      <td>25.18</td>\n",
       "      <td>62.96</td>\n",
       "      <td>1020.04</td>\n",
       "      <td>59.08</td>\n",
       "      <td>444.37</td>\n",
       "    </tr>\n",
       "    <tr>\n",
       "      <th>2</th>\n",
       "      <td>5.11</td>\n",
       "      <td>39.40</td>\n",
       "      <td>1012.16</td>\n",
       "      <td>92.14</td>\n",
       "      <td>488.56</td>\n",
       "    </tr>\n",
       "    <tr>\n",
       "      <th>3</th>\n",
       "      <td>20.86</td>\n",
       "      <td>57.32</td>\n",
       "      <td>1010.24</td>\n",
       "      <td>76.64</td>\n",
       "      <td>446.48</td>\n",
       "    </tr>\n",
       "    <tr>\n",
       "      <th>4</th>\n",
       "      <td>10.82</td>\n",
       "      <td>37.50</td>\n",
       "      <td>1009.23</td>\n",
       "      <td>96.62</td>\n",
       "      <td>473.90</td>\n",
       "    </tr>\n",
       "  </tbody>\n",
       "</table>\n",
       "</div>"
      ],
      "text/plain": [
       "      AT      V       AP     RH      PE\n",
       "0  14.96  41.76  1024.07  73.17  463.26\n",
       "1  25.18  62.96  1020.04  59.08  444.37\n",
       "2   5.11  39.40  1012.16  92.14  488.56\n",
       "3  20.86  57.32  1010.24  76.64  446.48\n",
       "4  10.82  37.50  1009.23  96.62  473.90"
      ]
     },
     "execution_count": 9,
     "metadata": {},
     "output_type": "execute_result"
    }
   ],
   "source": [
    "# concat 5 dataframes into 1\n",
    "df = pd.concat([df1, df2, df3, df4, df5])\n",
    "df.head()"
   ]
  },
  {
   "cell_type": "code",
   "execution_count": 10,
   "id": "a44f1f08-7150-47d2-98c1-b33474aac202",
   "metadata": {},
   "outputs": [],
   "source": [
    "# Convert pandas dataframe into pyspark dataframe\n",
    "data = spark.createDataFrame(df)"
   ]
  },
  {
   "cell_type": "code",
   "execution_count": 11,
   "id": "69b50baa-7444-4ce6-96b6-fed94df9faad",
   "metadata": {},
   "outputs": [
    {
     "name": "stdout",
     "output_type": "stream",
     "text": [
      "+-----+-----+-------+-----+------+\n",
      "|   AT|    V|     AP|   RH|    PE|\n",
      "+-----+-----+-------+-----+------+\n",
      "|14.96|41.76|1024.07|73.17|463.26|\n",
      "|25.18|62.96|1020.04|59.08|444.37|\n",
      "| 5.11| 39.4|1012.16|92.14|488.56|\n",
      "|20.86|57.32|1010.24|76.64|446.48|\n",
      "|10.82| 37.5|1009.23|96.62| 473.9|\n",
      "|26.27|59.44|1012.23|58.77|443.67|\n",
      "|15.89|43.96|1014.02|75.24|467.35|\n",
      "| 9.48|44.71|1019.12|66.43|478.42|\n",
      "|14.64| 45.0|1021.78|41.25|475.98|\n",
      "|11.74|43.56|1015.14|70.72| 477.5|\n",
      "+-----+-----+-------+-----+------+\n",
      "only showing top 10 rows\n",
      "\n"
     ]
    }
   ],
   "source": [
    "data.show(10)"
   ]
  },
  {
   "cell_type": "code",
   "execution_count": 12,
   "id": "e7bdf57a-9dc4-4660-a5bb-199dd5877da3",
   "metadata": {},
   "outputs": [
    {
     "name": "stdout",
     "output_type": "stream",
     "text": [
      "root\n",
      " |-- AT: double (nullable = true)\n",
      " |-- V: double (nullable = true)\n",
      " |-- AP: double (nullable = true)\n",
      " |-- RH: double (nullable = true)\n",
      " |-- PE: double (nullable = true)\n",
      "\n"
     ]
    }
   ],
   "source": [
    "data.printSchema()"
   ]
  },
  {
   "cell_type": "code",
   "execution_count": 13,
   "id": "a7dfe490-42e4-42fc-8fc2-cfe35d9322a6",
   "metadata": {},
   "outputs": [
    {
     "data": {
      "text/plain": [
       "47840"
      ]
     },
     "execution_count": 13,
     "metadata": {},
     "output_type": "execute_result"
    }
   ],
   "source": [
    "data.count()"
   ]
  },
  {
   "cell_type": "markdown",
   "id": "35107fc0-e2b9-4574-9e2e-ac68899bfa18",
   "metadata": {},
   "source": [
    "### Data preprocessing"
   ]
  },
  {
   "cell_type": "code",
   "execution_count": 14,
   "id": "50b901c7-18d9-4997-b25f-a55987a7b5fb",
   "metadata": {},
   "outputs": [
    {
     "data": {
      "text/html": [
       "<div>\n",
       "<style scoped>\n",
       "    .dataframe tbody tr th:only-of-type {\n",
       "        vertical-align: middle;\n",
       "    }\n",
       "\n",
       "    .dataframe tbody tr th {\n",
       "        vertical-align: top;\n",
       "    }\n",
       "\n",
       "    .dataframe thead th {\n",
       "        text-align: right;\n",
       "    }\n",
       "</style>\n",
       "<table border=\"1\" class=\"dataframe\">\n",
       "  <thead>\n",
       "    <tr style=\"text-align: right;\">\n",
       "      <th></th>\n",
       "      <th>AT</th>\n",
       "      <th>V</th>\n",
       "      <th>AP</th>\n",
       "      <th>RH</th>\n",
       "      <th>PE</th>\n",
       "    </tr>\n",
       "  </thead>\n",
       "  <tbody>\n",
       "    <tr>\n",
       "      <th>0</th>\n",
       "      <td>0</td>\n",
       "      <td>0</td>\n",
       "      <td>0</td>\n",
       "      <td>0</td>\n",
       "      <td>0</td>\n",
       "    </tr>\n",
       "  </tbody>\n",
       "</table>\n",
       "</div>"
      ],
      "text/plain": [
       "   AT  V  AP  RH  PE\n",
       "0   0  0   0   0   0"
      ]
     },
     "execution_count": 14,
     "metadata": {},
     "output_type": "execute_result"
    }
   ],
   "source": [
    "# Check null values\n",
    "data.select([count(when(col(c).isNull(), c)).alias(c) for c in data.columns]).toPandas()"
   ]
  },
  {
   "cell_type": "code",
   "execution_count": 15,
   "id": "5cf91c1f-6a12-4710-91b1-487dbbb7b40b",
   "metadata": {},
   "outputs": [
    {
     "data": {
      "text/html": [
       "<div>\n",
       "<style scoped>\n",
       "    .dataframe tbody tr th:only-of-type {\n",
       "        vertical-align: middle;\n",
       "    }\n",
       "\n",
       "    .dataframe tbody tr th {\n",
       "        vertical-align: top;\n",
       "    }\n",
       "\n",
       "    .dataframe thead th {\n",
       "        text-align: right;\n",
       "    }\n",
       "</style>\n",
       "<table border=\"1\" class=\"dataframe\">\n",
       "  <thead>\n",
       "    <tr style=\"text-align: right;\">\n",
       "      <th></th>\n",
       "      <th>AT</th>\n",
       "      <th>V</th>\n",
       "      <th>AP</th>\n",
       "      <th>RH</th>\n",
       "      <th>PE</th>\n",
       "    </tr>\n",
       "  </thead>\n",
       "  <tbody>\n",
       "    <tr>\n",
       "      <th>0</th>\n",
       "      <td>0</td>\n",
       "      <td>0</td>\n",
       "      <td>0</td>\n",
       "      <td>0</td>\n",
       "      <td>0</td>\n",
       "    </tr>\n",
       "  </tbody>\n",
       "</table>\n",
       "</div>"
      ],
      "text/plain": [
       "   AT  V  AP  RH  PE\n",
       "0   0  0   0   0   0"
      ]
     },
     "execution_count": 15,
     "metadata": {},
     "output_type": "execute_result"
    }
   ],
   "source": [
    "data.select([count(when(isnan(c), c)).alias(c) for c in data.columns]).toPandas()"
   ]
  },
  {
   "cell_type": "markdown",
   "id": "99578582-550d-42f7-bb1e-37bb582daee8",
   "metadata": {},
   "source": [
    "- Không có dữ liệu null, na"
   ]
  },
  {
   "cell_type": "code",
   "execution_count": 16,
   "id": "c098b3b3-0fa8-4158-9538-7c72e21059a8",
   "metadata": {},
   "outputs": [
    {
     "data": {
      "text/plain": [
       "38313"
      ]
     },
     "execution_count": 16,
     "metadata": {},
     "output_type": "execute_result"
    }
   ],
   "source": [
    "# Check duplicates\n",
    "dup_rows = data.count() - data.distinct().count()\n",
    "dup_rows"
   ]
  },
  {
   "cell_type": "markdown",
   "id": "6936987b-5cda-4a1a-95d0-3ff40014d980",
   "metadata": {},
   "source": [
    "- Có dữ liệu bị duplicated"
   ]
  },
  {
   "cell_type": "code",
   "execution_count": 17,
   "id": "265a9ce4-c2e6-4242-b03e-ee291c11ebe0",
   "metadata": {},
   "outputs": [
    {
     "data": {
      "text/plain": [
       "9527"
      ]
     },
     "execution_count": 17,
     "metadata": {},
     "output_type": "execute_result"
    }
   ],
   "source": [
    "# Drop duplicates\n",
    "data = data.drop_duplicates()\n",
    "data.count()"
   ]
  },
  {
   "cell_type": "code",
   "execution_count": 18,
   "id": "87aaa222-544c-4c0f-9ff1-3f7d5a300298",
   "metadata": {},
   "outputs": [
    {
     "name": "stdout",
     "output_type": "stream",
     "text": [
      "+-------+------------------+------------------+------------------+------------------+------------------+\n",
      "|summary|                AT|                 V|                AP|                RH|                PE|\n",
      "+-------+------------------+------------------+------------------+------------------+------------------+\n",
      "|  count|              9527|              9527|              9527|              9527|              9527|\n",
      "|   mean|19.658225044610113| 54.29342080403093|1013.2370840768365| 73.33495119135094| 454.3359095203101|\n",
      "| stddev| 7.444397078136751|12.686309009374407| 5.940526064757306|14.607513252912092|17.039080412855842|\n",
      "|    min|              1.81|             25.36|            992.89|             25.56|            420.26|\n",
      "|    max|             37.11|             81.56|            1033.3|            100.16|            495.76|\n",
      "+-------+------------------+------------------+------------------+------------------+------------------+\n",
      "\n"
     ]
    }
   ],
   "source": [
    "data.describe().show()"
   ]
  },
  {
   "cell_type": "markdown",
   "id": "2df86b37-b0b0-4157-9e66-ddf0296387c1",
   "metadata": {},
   "source": [
    "### Chuyển đổi dữ liệu"
   ]
  },
  {
   "cell_type": "code",
   "execution_count": 19,
   "id": "73c534cd-195d-409c-b7b9-3146a016fda5",
   "metadata": {},
   "outputs": [
    {
     "data": {
      "text/plain": [
       "['AT', 'V', 'AP', 'RH', 'PE']"
      ]
     },
     "execution_count": 19,
     "metadata": {},
     "output_type": "execute_result"
    }
   ],
   "source": [
    "data.columns"
   ]
  },
  {
   "cell_type": "code",
   "execution_count": 20,
   "id": "03b32cc2-538c-4d54-9401-a3c7cdd2a9ec",
   "metadata": {},
   "outputs": [],
   "source": [
    "from pyspark.ml.linalg import Vectors\n",
    "from pyspark.ml.feature import VectorAssembler"
   ]
  },
  {
   "cell_type": "code",
   "execution_count": 21,
   "id": "2fbaddea-2db4-43ec-add7-c9409c3fdfb6",
   "metadata": {},
   "outputs": [],
   "source": [
    "assembler = VectorAssembler(inputCols = ['AT', 'V', 'AP', 'RH'], \n",
    "                            outputCol = 'features') #input"
   ]
  },
  {
   "cell_type": "code",
   "execution_count": 22,
   "id": "2798b37d-e855-4ffa-b79f-6ec797fc2ae5",
   "metadata": {},
   "outputs": [],
   "source": [
    "data_pre = assembler.transform(data)"
   ]
  },
  {
   "cell_type": "code",
   "execution_count": 23,
   "id": "beceed05-fbcc-4afe-93a1-f28541ad4aa1",
   "metadata": {},
   "outputs": [
    {
     "name": "stdout",
     "output_type": "stream",
     "text": [
      "+-----+-----+-------+-----+------+--------------------+\n",
      "|   AT|    V|     AP|   RH|    PE|            features|\n",
      "+-----+-----+-------+-----+------+--------------------+\n",
      "|24.54|60.29|1017.42|58.94|447.67|[24.54,60.29,1017...|\n",
      "|10.59|42.49|1009.59|77.36|477.49|[10.59,42.49,1009...|\n",
      "+-----+-----+-------+-----+------+--------------------+\n",
      "only showing top 2 rows\n",
      "\n"
     ]
    }
   ],
   "source": [
    "data_pre.show(2)"
   ]
  },
  {
   "cell_type": "markdown",
   "id": "f529613e-5f20-4eb7-8ac6-194c9b9c1a5c",
   "metadata": {},
   "source": [
    "### Scale the data"
   ]
  },
  {
   "cell_type": "code",
   "execution_count": 24,
   "id": "6019b2ec-4239-4887-90b2-c6e9f10d3a9c",
   "metadata": {},
   "outputs": [],
   "source": [
    "from pyspark.ml.feature import MinMaxScaler"
   ]
  },
  {
   "cell_type": "code",
   "execution_count": 25,
   "id": "573c356f-2969-4887-8afc-8f88f09beed3",
   "metadata": {},
   "outputs": [],
   "source": [
    "scaler = MinMaxScaler(inputCol='features',\n",
    "                        outputCol='scaledFeatures')"
   ]
  },
  {
   "cell_type": "code",
   "execution_count": 26,
   "id": "01e41df1-a55a-44ab-adf3-7f43d3da72fc",
   "metadata": {},
   "outputs": [],
   "source": [
    "# Compute summary statistics by fitting the MinMaxScaler\n",
    "scalerModel = scaler.fit(data_pre)"
   ]
  },
  {
   "cell_type": "code",
   "execution_count": 27,
   "id": "423440cc-6853-4124-b9ce-c660f6803700",
   "metadata": {},
   "outputs": [],
   "source": [
    "# Normalize each feature\n",
    "final_data = scalerModel.transform(data_pre)"
   ]
  },
  {
   "cell_type": "code",
   "execution_count": 28,
   "id": "ffd16f4b-c596-440c-833f-6a3e73f7bef9",
   "metadata": {},
   "outputs": [
    {
     "data": {
      "text/plain": [
       "9527"
      ]
     },
     "execution_count": 28,
     "metadata": {},
     "output_type": "execute_result"
    }
   ],
   "source": [
    "final_data = final_data.select('scaledFeatures', 'PE') # features: input, PE: output\n",
    "final_data.count()"
   ]
  },
  {
   "cell_type": "code",
   "execution_count": 29,
   "id": "d96c984a-e6a6-40c6-8273-a03fc64dd4c6",
   "metadata": {},
   "outputs": [
    {
     "name": "stdout",
     "output_type": "stream",
     "text": [
      "+-------------------------------------------------------------------------------+------+\n",
      "|scaledFeatures                                                                 |PE    |\n",
      "+-------------------------------------------------------------------------------+------+\n",
      "|[0.6439093484419265,0.6215302491103202,0.6070279633754019,0.4474530831099195]  |447.67|\n",
      "|[0.24872521246458926,0.3048042704626335,0.41326404355357726,0.6943699731903485]|477.49|\n",
      "|[0.7050991501416431,0.7330960854092526,0.3073496659242754,0.6221179624664879]  |430.21|\n",
      "|[0.5504249291784703,0.2902135231316726,0.4877505567928743,0.31782841823056307] |459.81|\n",
      "|[0.7345609065155808,0.8793594306049821,0.42464736451373375,0.4726541554959786] |436.87|\n",
      "+-------------------------------------------------------------------------------+------+\n",
      "only showing top 5 rows\n",
      "\n"
     ]
    }
   ],
   "source": [
    "final_data.show(5, False)"
   ]
  },
  {
   "cell_type": "markdown",
   "id": "843f5a59-ca04-4842-af43-fd5cf43050e9",
   "metadata": {},
   "source": [
    "### Chia dữ liệu train-test"
   ]
  },
  {
   "cell_type": "code",
   "execution_count": 30,
   "id": "58d5f24d-0722-47cd-8295-6c1b0ee528d7",
   "metadata": {},
   "outputs": [],
   "source": [
    "# split the dataset into training and test\n",
    "train_data, test_data = final_data.randomSplit([0.7, 0.3])"
   ]
  },
  {
   "cell_type": "code",
   "execution_count": 31,
   "id": "2b1c6abb-0493-4333-9b2c-e4c2fb31df44",
   "metadata": {},
   "outputs": [
    {
     "name": "stdout",
     "output_type": "stream",
     "text": [
      "+-------+------------------+\n",
      "|summary|                PE|\n",
      "+-------+------------------+\n",
      "|  count|              6747|\n",
      "|   mean| 454.2666236846001|\n",
      "| stddev|17.057736601186757|\n",
      "|    min|            421.57|\n",
      "|    max|            495.24|\n",
      "+-------+------------------+\n",
      "\n"
     ]
    }
   ],
   "source": [
    "train_data.describe().show()"
   ]
  },
  {
   "cell_type": "code",
   "execution_count": 32,
   "id": "831be382-c048-4af1-a1d8-7844e3d07d96",
   "metadata": {},
   "outputs": [
    {
     "name": "stdout",
     "output_type": "stream",
     "text": [
      "+-------+------------------+\n",
      "|summary|                PE|\n",
      "+-------+------------------+\n",
      "|  count|              2780|\n",
      "|   mean|  454.504064748202|\n",
      "| stddev|16.995606047612053|\n",
      "|    min|            420.26|\n",
      "|    max|            495.76|\n",
      "+-------+------------------+\n",
      "\n"
     ]
    }
   ],
   "source": [
    "test_data.describe().show()"
   ]
  },
  {
   "cell_type": "markdown",
   "id": "8976e66a-8e80-4f5c-ad3f-f62b26823a0d",
   "metadata": {},
   "source": [
    "### Xây dựng model với Linear Regression"
   ]
  },
  {
   "cell_type": "code",
   "execution_count": 33,
   "id": "d233a9b1-a823-4c4b-83d3-b22d39e9e317",
   "metadata": {},
   "outputs": [],
   "source": [
    "from pyspark.ml.regression import LinearRegression\n",
    "from pyspark.ml.regression import LinearRegressionModel"
   ]
  },
  {
   "cell_type": "code",
   "execution_count": 34,
   "id": "98d8072e-a628-4c5a-b2e8-7b30af4d0ebc",
   "metadata": {},
   "outputs": [],
   "source": [
    "# Create a Linear Regression Model Object\n",
    "lr = LinearRegression(featuresCol = 'scaledFeatures',\n",
    "                      labelCol = 'PE',\n",
    "                      predictionCol = 'prediction')"
   ]
  },
  {
   "cell_type": "code",
   "execution_count": 35,
   "id": "bfbdf2f3-3b4e-4afb-a861-fb93081c7425",
   "metadata": {},
   "outputs": [],
   "source": [
    "# Fit the model to the data and call this model lrModel\n",
    "lrModel = lr.fit(train_data)"
   ]
  },
  {
   "cell_type": "code",
   "execution_count": 36,
   "id": "b19b27aa-737c-4b9a-b8f4-b3e330814979",
   "metadata": {},
   "outputs": [
    {
     "name": "stdout",
     "output_type": "stream",
     "text": [
      "Coefficient: [-69.8838695200798,-13.386757270656567,2.7094084542080004,-11.953899997472401] Intercept: 502.8295785137063\n"
     ]
    }
   ],
   "source": [
    "# Print the coefficients and intercept for linear regression\n",
    "print('Coefficient: {} Intercept: {}'.format(lrModel.coefficients, lrModel.intercept))"
   ]
  },
  {
   "cell_type": "markdown",
   "id": "9445ed9a-6727-412f-b1be-939bf89a13ec",
   "metadata": {},
   "source": [
    "### Đánh giá model với test dataset"
   ]
  },
  {
   "cell_type": "code",
   "execution_count": 37,
   "id": "6ed3aa32-a831-42f9-90f3-667491a6913f",
   "metadata": {},
   "outputs": [],
   "source": [
    "test_results = lrModel.evaluate(test_data)"
   ]
  },
  {
   "cell_type": "code",
   "execution_count": 38,
   "id": "ea77d2be-8e9a-4886-b231-c8c931150ea7",
   "metadata": {},
   "outputs": [
    {
     "name": "stdout",
     "output_type": "stream",
     "text": [
      "+-------------------+\n",
      "|          residuals|\n",
      "+-------------------+\n",
      "| -2.974213976811029|\n",
      "|-1.7616464110126344|\n",
      "|-6.8253239372667736|\n",
      "| -4.340587502754943|\n",
      "|   3.86598344949374|\n",
      "+-------------------+\n",
      "only showing top 5 rows\n",
      "\n"
     ]
    }
   ],
   "source": [
    "test_results.residuals.show(5)"
   ]
  },
  {
   "cell_type": "code",
   "execution_count": 39,
   "id": "44deb4e3-f0fd-4b74-a5ba-00713d045496",
   "metadata": {},
   "outputs": [],
   "source": [
    "# Check test dataset\n",
    "test_model = lrModel.transform(test_data)"
   ]
  },
  {
   "cell_type": "code",
   "execution_count": 40,
   "id": "fbcba329-2c35-4bdf-b8d9-9d21ab96f816",
   "metadata": {},
   "outputs": [
    {
     "name": "stdout",
     "output_type": "stream",
     "text": [
      "+------------------+------+\n",
      "|        prediction|    PE|\n",
      "+------------------+------+\n",
      "|493.52421397681104|490.55|\n",
      "|491.06164641101265| 489.3|\n",
      "| 489.4853239372668|482.66|\n",
      "|489.54058750275493| 485.2|\n",
      "|489.06401655050627|492.93|\n",
      "+------------------+------+\n",
      "only showing top 5 rows\n",
      "\n"
     ]
    }
   ],
   "source": [
    "# Inspect results\n",
    "test_model.select('prediction', 'PE').show(5)"
   ]
  },
  {
   "cell_type": "code",
   "execution_count": 41,
   "id": "55ad701c-9937-48de-96ed-1daeba2070d5",
   "metadata": {},
   "outputs": [
    {
     "name": "stdout",
     "output_type": "stream",
     "text": [
      "RMSE: 4.576219140079239\n",
      "MSE: 20.941781618027573\n",
      "r2: 0.9274735259822106\n"
     ]
    }
   ],
   "source": [
    "print('RMSE: {}'.format(test_results.rootMeanSquaredError))\n",
    "print('MSE: {}'.format(test_results.meanSquaredError))\n",
    "print('r2: {}'.format(test_results.r2))"
   ]
  },
  {
   "cell_type": "markdown",
   "id": "f42422cf-124a-4ae4-82ca-33f695684e59",
   "metadata": {},
   "source": [
    "### Xây dựng model với Random Forest "
   ]
  },
  {
   "cell_type": "code",
   "execution_count": 42,
   "id": "8189574e-6403-4172-a360-d5da0321c8b8",
   "metadata": {},
   "outputs": [],
   "source": [
    "from pyspark.ml.regression import RandomForestRegressor"
   ]
  },
  {
   "cell_type": "code",
   "execution_count": 43,
   "id": "e9d98eb5-ecbe-47e7-924b-b936371a3af4",
   "metadata": {},
   "outputs": [],
   "source": [
    "rfc = RandomForestRegressor(featuresCol='scaledFeatures',\n",
    "                              labelCol='PE',\n",
    "                              predictionCol='prediction')"
   ]
  },
  {
   "cell_type": "code",
   "execution_count": 44,
   "id": "b1082c20-299d-4fa7-a86d-6feab3d3370e",
   "metadata": {},
   "outputs": [],
   "source": [
    "rfc_model = rfc.fit(train_data)"
   ]
  },
  {
   "cell_type": "markdown",
   "id": "99c17832-8d08-4392-8b45-d240c6053e4b",
   "metadata": {},
   "source": [
    "### Đánh giá model với test dataset"
   ]
  },
  {
   "cell_type": "code",
   "execution_count": 45,
   "id": "5f48b52b-a317-4a80-b223-9f630c19d3e4",
   "metadata": {},
   "outputs": [],
   "source": [
    "# Check test dataset\n",
    "rfc_test_model = rfc_model.transform(test_data)"
   ]
  },
  {
   "cell_type": "code",
   "execution_count": 46,
   "id": "c1095b49-2907-4694-a954-0eb2814d862a",
   "metadata": {},
   "outputs": [
    {
     "name": "stdout",
     "output_type": "stream",
     "text": [
      "+------+-----------------+---------------------------------------------------------------------------------+\n",
      "|PE    |prediction       |scaledFeatures                                                                   |\n",
      "+------+-----------------+---------------------------------------------------------------------------------+\n",
      "|490.55|483.4281860213131|[0.0,0.25017793594306054,0.8421182875525888,0.689142091152815]                   |\n",
      "|489.3 |483.4281860213131|[0.0254957507082153,0.25017793594306054,0.8356842365751082,0.7446380697050938]   |\n",
      "|482.66|482.984824594973 |[0.028045325779036824,0.25409252669039145,0.44840386043058694,0.7694369973190347]|\n",
      "+------+-----------------+---------------------------------------------------------------------------------+\n",
      "only showing top 3 rows\n",
      "\n"
     ]
    }
   ],
   "source": [
    "# Inspect results\n",
    "rfc_test_model.select('PE','prediction','scaledFeatures').show(3, False)"
   ]
  },
  {
   "cell_type": "code",
   "execution_count": 47,
   "id": "696c81a5-6e31-470b-bf81-f4c2ba751da5",
   "metadata": {},
   "outputs": [],
   "source": [
    "from pyspark.ml.evaluation import RegressionEvaluator"
   ]
  },
  {
   "cell_type": "code",
   "execution_count": 48,
   "id": "2b126dc8-3000-4680-ba59-cb3cadee91e3",
   "metadata": {},
   "outputs": [],
   "source": [
    "evaluator = RegressionEvaluator(labelCol='PE', \n",
    "                                predictionCol=\"prediction\")"
   ]
  },
  {
   "cell_type": "code",
   "execution_count": 49,
   "id": "b0bc67ed-1651-4630-ae3f-c3ac57e851c7",
   "metadata": {},
   "outputs": [],
   "source": [
    "rmse = evaluator.evaluate(rfc_test_model, {evaluator.metricName:'rmse'})\n",
    "mse = evaluator.evaluate(rfc_test_model, {evaluator.metricName:'mse'})\n",
    "r2 = evaluator.evaluate(rfc_test_model, {evaluator.metricName:'r2'})"
   ]
  },
  {
   "cell_type": "code",
   "execution_count": 50,
   "id": "8473943a-60f5-4a9b-b45d-0bd7c4373afe",
   "metadata": {},
   "outputs": [
    {
     "name": "stdout",
     "output_type": "stream",
     "text": [
      "RMSE:  4.372828993073071\n",
      "MSE:  19.121633402660446\n",
      "R2:  0.9337771411501153\n"
     ]
    }
   ],
   "source": [
    "print('RMSE: ', rmse)\n",
    "print('MSE: ', mse)\n",
    "print('R2: ', r2)"
   ]
  },
  {
   "cell_type": "markdown",
   "id": "db924cb2-8b24-4188-a8b6-5602aeb8de05",
   "metadata": {},
   "source": [
    "- Random Forest model has higher R2 ~ 0.93 than Linear Regression model ~0.92 => Random Forest might be a better model"
   ]
  },
  {
   "cell_type": "code",
   "execution_count": null,
   "id": "772e8ded-6b50-4ff4-b5ff-4f4bca4c301f",
   "metadata": {},
   "outputs": [],
   "source": []
  }
 ],
 "metadata": {
  "kernelspec": {
   "display_name": "Python 3 (ipykernel)",
   "language": "python",
   "name": "python3"
  },
  "language_info": {
   "codemirror_mode": {
    "name": "ipython",
    "version": 3
   },
   "file_extension": ".py",
   "mimetype": "text/x-python",
   "name": "python",
   "nbconvert_exporter": "python",
   "pygments_lexer": "ipython3",
   "version": "3.8.9"
  }
 },
 "nbformat": 4,
 "nbformat_minor": 5
}
